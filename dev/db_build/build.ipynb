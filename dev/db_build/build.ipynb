{
 "cells": [
  {
   "cell_type": "markdown",
   "metadata": {},
   "source": [
    "# Database Build\n",
    "Created on 22 Jan 2025\\\n",
    "Purpose is to present a guide on how to build the main MuddyBoots database from scratch."
   ]
  },
  {
   "cell_type": "code",
   "execution_count": 23,
   "metadata": {},
   "outputs": [],
   "source": [
    "# setup\n",
    "import os, psycopg2\n",
    "from dotenv import load_dotenv\n",
    "\n",
    "# Database interface\n",
    "from sqlalchemy import create_engine, text, inspect\n",
    "from sqlalchemy.schema import CreateSchema\n",
    "from sqlalchemy_utils import database_exists, create_database\n"
   ]
  },
  {
   "cell_type": "code",
   "execution_count": null,
   "metadata": {},
   "outputs": [],
   "source": [
    "\n",
    "config = {\n",
    "    \"muddyboots\":[\n",
    "        \"\"\n",
    "    ]\n",
    "}"
   ]
  },
  {
   "cell_type": "markdown",
   "metadata": {},
   "source": [
    "Import ENV"
   ]
  },
  {
   "cell_type": "code",
   "execution_count": 24,
   "metadata": {},
   "outputs": [],
   "source": [
    "# Import ENV\n",
    "load_dotenv()\n",
    "\n",
    "# Database connection details\n",
    "db_config = {\n",
    "    \"host\": \"host.docker.internal\",\n",
    "    \"port\": os.getenv(\"DB_PORT\"),\n",
    "    \"dbname\": \"muddyboots\",\n",
    "    \"user\": os.getenv(\"MB_USER\"),\n",
    "    \"password\": os.getenv(\"DB_PASSWORD\")\n",
    "}\n",
    "\n",
    "# Construct the database URL\n",
    "db_url = f\"postgresql://{db_config['user']}:{db_config['password']}@{db_config['host']}:{db_config['port']}/{db_config['dbname']}\"\n",
    "\n",
    "# Create the engine\n",
    "engine = create_engine(db_url)"
   ]
  },
  {
   "cell_type": "code",
   "execution_count": 26,
   "metadata": {},
   "outputs": [],
   "source": [
    "# Create our new db if it does not exist, then connect\n",
    "if not database_exists(engine.url):\n",
    "    create_database(engine.url)\n",
    "\n",
    "with engine.connect() as connection:\n",
    "    if not inspect(connection).has_schema(\"match\"):\n",
    "        connection.execute(CreateSchema(\"match\"))\n",
    "        connection.commit()"
   ]
  }
 ],
 "metadata": {
  "kernelspec": {
   "display_name": "Python 3",
   "language": "python",
   "name": "python3"
  },
  "language_info": {
   "codemirror_mode": {
    "name": "ipython",
    "version": 3
   },
   "file_extension": ".py",
   "mimetype": "text/x-python",
   "name": "python",
   "nbconvert_exporter": "python",
   "pygments_lexer": "ipython3",
   "version": "3.11.9"
  }
 },
 "nbformat": 4,
 "nbformat_minor": 2
}
